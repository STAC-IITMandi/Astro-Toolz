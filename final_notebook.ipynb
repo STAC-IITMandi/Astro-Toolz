{
 "cells": [
  {
   "cell_type": "markdown",
   "metadata": {},
   "source": [
    "# Alt-Az Generator"
   ]
  },
  {
   "cell_type": "markdown",
   "metadata": {},
   "source": [
    "Importing the required dependencies, libraries"
   ]
  },
  {
   "cell_type": "code",
   "execution_count": 1,
   "metadata": {},
   "outputs": [],
   "source": [
    "import ephem\n",
    "from math import degrees\n",
    "from datetime import datetime"
   ]
  },
  {
   "cell_type": "markdown",
   "metadata": {},
   "source": [
    "### Defining the Place, its coordinates, its date"
   ]
  },
  {
   "cell_type": "markdown",
   "metadata": {},
   "source": [
    "Note that the longitude and lattitude are in degrees. They are not in minutes:seconds. The elevation is in meters. "
   ]
  },
  {
   "cell_type": "code",
   "execution_count": 2,
   "metadata": {},
   "outputs": [],
   "source": [
    "place = ephem.Observer()\n",
    "place.lat = '31.7754'\n",
    "place.lon = '76.9861'\n",
    "place.elevation = 1000\n",
    "place.date = datetime.now().strftime('%Y/%m/%d')"
   ]
  },
  {
   "cell_type": "markdown",
   "metadata": {},
   "source": [
    "Making the default test_place as the place defined above."
   ]
  },
  {
   "cell_type": "code",
   "execution_count": 3,
   "metadata": {},
   "outputs": [],
   "source": [
    "test_place = place"
   ]
  },
  {
   "cell_type": "markdown",
   "metadata": {},
   "source": [
    "#### Stars which are defined as ephem.star() "
   ]
  },
  {
   "cell_type": "code",
   "execution_count": 4,
   "metadata": {},
   "outputs": [],
   "source": [
    "objects_string = [\"Polaris\", \"Vega\", \"Deneb\", \"Altair\", \"Caph\", \"Schedar\",\n",
    "\"Scheat\",  \"Algenib\", \"Fomalhaut\", \"Hamal\", \"Aldebaran\", \"Atlas\",\n",
    "\"Capella\", \"Menkalinan\", \"Achernar\", \"Elnath\", \"Bellatrix\",  \"Rigel\",\n",
    "\"Mintaka\", \"Alnilam\", \"Betelgeuse\", \"Alnitak\", \"Saiph\", \"Castor\", \"Sirius\", \"Dubhe\",\n",
    "\"Procyon\", \"Pollux\", \"Merak\", \"Canopus\", \"Megrez\", \"Phecda\", \"Alphard\", \"Algieba\",\n",
    "\"Regulus\", \"Alioth\", \"Mizar\", \"Denebola\", \"Alcaid\"\n",
    "]"
   ]
  },
  {
   "cell_type": "code",
   "execution_count": 5,
   "metadata": {},
   "outputs": [],
   "source": [
    "objects = []\n",
    "for s in objects_string:\n",
    "    objects.append(ephem.star(s))\n"
   ]
  },
  {
   "cell_type": "markdown",
   "metadata": {},
   "source": [
    "Defining some other important observable objects not defined in ephem."
   ]
  },
  {
   "cell_type": "code",
   "execution_count": null,
   "metadata": {},
   "outputs": [],
   "source": [
    "ruchbah = ephem.FixedBody()\n",
    "ruchbah.name = \"Ruchbah\"\n",
    "ruchbah._ra = '0:56:42.0'\n",
    "ruchbah._dec = '60:43:00.0'\n",
    "\n",
    "alpheratz = ephem.FixedBody()\n",
    "alpheratz.name = \"Alpheratz\"\n",
    "alpheratz._ra = '0:08:23.0'\n",
    "alpheratz._dec = '29:05:26.0'\n",
    "\n",
    "cursa = ephem.FixedBody()\n",
    "cursa.name = \"Cursa\"\n",
    "cursa._ra = '5:07:51.0'\n",
    "cursa._dec = '-5:05:11.0'\n",
    "\n",
    "rngc1980 = ephem.FixedBody()\n",
    "rngc1980.name = \"RNGC 1980\"\n",
    "rngc1980._ra = '5:36:27.0'\n",
    "rngc1980._dec = '-5:54:35.0'\n",
    "\n",
    "m42 = ephem.FixedBody()\n",
    "m42.name = \"M 42\"\n",
    "m42._ra = '5:35:21.0'\n",
    "m42._dec = '-5:23:31.0'\n",
    "\n",
    "\n",
    "m45 = ephem.FixedBody()\n",
    "m45.name = \"M 45\"\n",
    "m45._ra = '3:47:24.0'\n",
    "m45._dec = '24:7:0.0'\n",
    "\n",
    "other_objects = [ruchbah, alpheratz,  cursa, rngc1980, m42, m45]"
   ]
  },
  {
   "cell_type": "markdown",
   "metadata": {},
   "source": [
    "The other solar system objects. Directly defined as ephem.Object()"
   ]
  },
  {
   "cell_type": "code",
   "execution_count": null,
   "metadata": {},
   "outputs": [],
   "source": [
    "objects.append(ephem.Saturn())\n",
    "objects.append(ephem.Mars())\n",
    "objects.append(ephem.Moon())\n",
    "objects.append(ephem.Jupiter())\n",
    "objects.append(ephem.Uranus())\n",
    "objects.append(ephem.Neptune())\n",
    "objects.append(ephem.Mercury())\n",
    "objects.append(ephem.Venus())\n",
    "objects = objects + other_objects\n",
    "\n",
    "planets = [\"Saturn\", \"Mars\", \"Moon\", \"Jupiter\", \"Uranus\", \"Neptune\", \"Mercury\", \"Venus\"]"
   ]
  },
  {
   "cell_type": "markdown",
   "metadata": {},
   "source": [
    "#### Taking Input from the user"
   ]
  },
  {
   "cell_type": "code",
   "execution_count": null,
   "metadata": {},
   "outputs": [],
   "source": [
    "obj_req = input(\"Enter the name of object: \")"
   ]
  },
  {
   "cell_type": "markdown",
   "metadata": {},
   "source": [
    "Checking if the entered object is in Database. Takes Moon as a default object if it's not in the database."
   ]
  },
  {
   "cell_type": "code",
   "execution_count": null,
   "metadata": {},
   "outputs": [],
   "source": [
    "if obj_req not in objects + planets + objects_string :\n",
    "    print(\"**Entered object is not in the databse\\n**Giving details of Moon by default\")\n",
    "    obj_req = \"Moon\""
   ]
  },
  {
   "cell_type": "code",
   "execution_count": null,
   "metadata": {},
   "outputs": [],
   "source": [
    "obj = ephem.FixedBody()"
   ]
  },
  {
   "cell_type": "code",
   "execution_count": null,
   "metadata": {},
   "outputs": [],
   "source": [
    "x = iter(planets)"
   ]
  },
  {
   "cell_type": "code",
   "execution_count": null,
   "metadata": {},
   "outputs": [],
   "source": [
    "for o in objects:\n",
    "    o.compute(place.date)\n",
    "    if o.name in planets :\n",
    "        for x in planets:\n",
    "            if o.name == x == obj_req :\n",
    "                obj.name = o.name\n",
    "                obj._ra = o.ra\n",
    "                obj._dec = o.dec\n",
    "    elif o.name == obj_req:\n",
    "        obj.name = o.name\n",
    "        obj._ra = o._ra\n",
    "        obj._dec = o._dec\n",
    "\n",
    "test_place.date = ephem.now()\n",
    "obj.compute(test_place)\n",
    "val1 = degrees(obj.alt)\n",
    "val2 = degrees(obj.az)"
   ]
  },
  {
   "cell_type": "markdown",
   "metadata": {},
   "source": [
    "Printing the status of the object"
   ]
  },
  {
   "cell_type": "code",
   "execution_count": null,
   "metadata": {},
   "outputs": [],
   "source": [
    "if val1 < degrees(0) :\n",
    "     print(\"Status:  The Object is below the Horizon!\")\n",
    "elif val1<10  :\n",
    "    print(\"Status:  The Object is just above the Horizon and may not be visible from the current location\") \n",
    "else : \n",
    "    print(\"Status:  The Object is above the Horizon\")"
   ]
  },
  {
   "cell_type": "markdown",
   "metadata": {},
   "source": [
    "Final Altitude and Azimuth of the given object:"
   ]
  },
  {
   "cell_type": "code",
   "execution_count": null,
   "metadata": {},
   "outputs": [],
   "source": [
    "print (\"Resultant Altitude: \" + str(val1) + \" degrees\") \n",
    "print (\"Resultant Azimuth:  \" + str(val2) + \" degrees\")"
   ]
  }
 ],
 "metadata": {
  "kernelspec": {
   "display_name": "Python 3",
   "language": "python",
   "name": "python3"
  },
  "language_info": {
   "codemirror_mode": {
    "name": "ipython",
    "version": 3
   },
   "file_extension": ".py",
   "mimetype": "text/x-python",
   "name": "python",
   "nbconvert_exporter": "python",
   "pygments_lexer": "ipython3",
   "version": "3.6.3"
  }
 },
 "nbformat": 4,
 "nbformat_minor": 2
}
